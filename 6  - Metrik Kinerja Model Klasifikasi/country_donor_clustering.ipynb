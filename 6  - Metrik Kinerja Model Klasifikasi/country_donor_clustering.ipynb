{
 "cells": [
  {
   "cell_type": "markdown",
   "id": "1e31ecb2",
   "metadata": {},
   "source": [
    "Negara-negara mana yang sebaiknya diberikan bantuan oleh negara donor? Kasus ini merupakan contoh dari Unsupervised Learning karena kita tidak memiliki label kelayakan penerima donor pada data negara di dataset. Kita akan menambahkan satu kolom baru pada dataset yang berisikan nilai apakah suatu negara adalah pemberi bantuan atau penerima bantuan. "
   ]
  },
  {
   "cell_type": "code",
   "execution_count": 1,
   "id": "27f4c41b",
   "metadata": {},
   "outputs": [],
   "source": [
    "import pandas as pd\n",
    "import numpy as np\n",
    "import matplotlib.pyplot as plt\n",
    "import seaborn as sns\n",
    "\n",
    "from sklearn.preprocessing import StandardScaler, MinMaxScaler\n",
    "from sklearn.cluster import KMeans"
   ]
  },
  {
   "cell_type": "code",
   "execution_count": 2,
   "id": "eade37da",
   "metadata": {},
   "outputs": [],
   "source": [
    "dataset_awal = pd.read_csv('https://raw.githubusercontent.com/smirzap/AI-dengan-DL/main/data/Country-data.csv')"
   ]
  },
  {
   "cell_type": "code",
   "execution_count": 3,
   "id": "cea7be2a",
   "metadata": {},
   "outputs": [
    {
     "data": {
      "application/vnd.microsoft.datawrangler.viewer.v0+json": {
       "columns": [
        {
         "name": "index",
         "rawType": "int64",
         "type": "integer"
        },
        {
         "name": "country",
         "rawType": "object",
         "type": "string"
        },
        {
         "name": "child_mort",
         "rawType": "float64",
         "type": "float"
        },
        {
         "name": "exports",
         "rawType": "float64",
         "type": "float"
        },
        {
         "name": "health",
         "rawType": "float64",
         "type": "float"
        },
        {
         "name": "imports",
         "rawType": "float64",
         "type": "float"
        },
        {
         "name": "income",
         "rawType": "int64",
         "type": "integer"
        },
        {
         "name": "inflation",
         "rawType": "float64",
         "type": "float"
        },
        {
         "name": "life_expec",
         "rawType": "float64",
         "type": "float"
        },
        {
         "name": "total_fer",
         "rawType": "float64",
         "type": "float"
        },
        {
         "name": "gdpp",
         "rawType": "int64",
         "type": "integer"
        }
       ],
       "ref": "b027262a-a122-4258-bf43-9d1a83fca7f9",
       "rows": [
        [
         "0",
         "Afghanistan",
         "90.2",
         "10.0",
         "7.58",
         "44.9",
         "1610",
         "9.44",
         "56.2",
         "5.82",
         "553"
        ],
        [
         "1",
         "Albania",
         "16.6",
         "28.0",
         "6.55",
         "48.6",
         "9930",
         "4.49",
         "76.3",
         "1.65",
         "4090"
        ],
        [
         "2",
         "Algeria",
         "27.3",
         "38.4",
         "4.17",
         "31.4",
         "12900",
         "16.1",
         "76.5",
         "2.89",
         "4460"
        ],
        [
         "3",
         "Angola",
         "119.0",
         "62.3",
         "2.85",
         "42.9",
         "5900",
         "22.4",
         "60.1",
         "6.16",
         "3530"
        ],
        [
         "4",
         "Antigua and Barbuda",
         "10.3",
         "45.5",
         "6.03",
         "58.9",
         "19100",
         "1.44",
         "76.8",
         "2.13",
         "12200"
        ]
       ],
       "shape": {
        "columns": 10,
        "rows": 5
       }
      },
      "text/html": [
       "<div>\n",
       "<style scoped>\n",
       "    .dataframe tbody tr th:only-of-type {\n",
       "        vertical-align: middle;\n",
       "    }\n",
       "\n",
       "    .dataframe tbody tr th {\n",
       "        vertical-align: top;\n",
       "    }\n",
       "\n",
       "    .dataframe thead th {\n",
       "        text-align: right;\n",
       "    }\n",
       "</style>\n",
       "<table border=\"1\" class=\"dataframe\">\n",
       "  <thead>\n",
       "    <tr style=\"text-align: right;\">\n",
       "      <th></th>\n",
       "      <th>country</th>\n",
       "      <th>child_mort</th>\n",
       "      <th>exports</th>\n",
       "      <th>health</th>\n",
       "      <th>imports</th>\n",
       "      <th>income</th>\n",
       "      <th>inflation</th>\n",
       "      <th>life_expec</th>\n",
       "      <th>total_fer</th>\n",
       "      <th>gdpp</th>\n",
       "    </tr>\n",
       "  </thead>\n",
       "  <tbody>\n",
       "    <tr>\n",
       "      <th>0</th>\n",
       "      <td>Afghanistan</td>\n",
       "      <td>90.2</td>\n",
       "      <td>10.0</td>\n",
       "      <td>7.58</td>\n",
       "      <td>44.9</td>\n",
       "      <td>1610</td>\n",
       "      <td>9.44</td>\n",
       "      <td>56.2</td>\n",
       "      <td>5.82</td>\n",
       "      <td>553</td>\n",
       "    </tr>\n",
       "    <tr>\n",
       "      <th>1</th>\n",
       "      <td>Albania</td>\n",
       "      <td>16.6</td>\n",
       "      <td>28.0</td>\n",
       "      <td>6.55</td>\n",
       "      <td>48.6</td>\n",
       "      <td>9930</td>\n",
       "      <td>4.49</td>\n",
       "      <td>76.3</td>\n",
       "      <td>1.65</td>\n",
       "      <td>4090</td>\n",
       "    </tr>\n",
       "    <tr>\n",
       "      <th>2</th>\n",
       "      <td>Algeria</td>\n",
       "      <td>27.3</td>\n",
       "      <td>38.4</td>\n",
       "      <td>4.17</td>\n",
       "      <td>31.4</td>\n",
       "      <td>12900</td>\n",
       "      <td>16.10</td>\n",
       "      <td>76.5</td>\n",
       "      <td>2.89</td>\n",
       "      <td>4460</td>\n",
       "    </tr>\n",
       "    <tr>\n",
       "      <th>3</th>\n",
       "      <td>Angola</td>\n",
       "      <td>119.0</td>\n",
       "      <td>62.3</td>\n",
       "      <td>2.85</td>\n",
       "      <td>42.9</td>\n",
       "      <td>5900</td>\n",
       "      <td>22.40</td>\n",
       "      <td>60.1</td>\n",
       "      <td>6.16</td>\n",
       "      <td>3530</td>\n",
       "    </tr>\n",
       "    <tr>\n",
       "      <th>4</th>\n",
       "      <td>Antigua and Barbuda</td>\n",
       "      <td>10.3</td>\n",
       "      <td>45.5</td>\n",
       "      <td>6.03</td>\n",
       "      <td>58.9</td>\n",
       "      <td>19100</td>\n",
       "      <td>1.44</td>\n",
       "      <td>76.8</td>\n",
       "      <td>2.13</td>\n",
       "      <td>12200</td>\n",
       "    </tr>\n",
       "  </tbody>\n",
       "</table>\n",
       "</div>"
      ],
      "text/plain": [
       "               country  child_mort  exports  health  imports  income  \\\n",
       "0          Afghanistan        90.2     10.0    7.58     44.9    1610   \n",
       "1              Albania        16.6     28.0    6.55     48.6    9930   \n",
       "2              Algeria        27.3     38.4    4.17     31.4   12900   \n",
       "3               Angola       119.0     62.3    2.85     42.9    5900   \n",
       "4  Antigua and Barbuda        10.3     45.5    6.03     58.9   19100   \n",
       "\n",
       "   inflation  life_expec  total_fer   gdpp  \n",
       "0       9.44        56.2       5.82    553  \n",
       "1       4.49        76.3       1.65   4090  \n",
       "2      16.10        76.5       2.89   4460  \n",
       "3      22.40        60.1       6.16   3530  \n",
       "4       1.44        76.8       2.13  12200  "
      ]
     },
     "execution_count": 3,
     "metadata": {},
     "output_type": "execute_result"
    }
   ],
   "source": [
    "dataset_awal.head()"
   ]
  },
  {
   "cell_type": "code",
   "execution_count": 4,
   "id": "0334dd5f",
   "metadata": {},
   "outputs": [
    {
     "name": "stdout",
     "output_type": "stream",
     "text": [
      "<class 'pandas.core.frame.DataFrame'>\n",
      "RangeIndex: 167 entries, 0 to 166\n",
      "Data columns (total 10 columns):\n",
      " #   Column      Non-Null Count  Dtype  \n",
      "---  ------      --------------  -----  \n",
      " 0   country     167 non-null    object \n",
      " 1   child_mort  167 non-null    float64\n",
      " 2   exports     167 non-null    float64\n",
      " 3   health      167 non-null    float64\n",
      " 4   imports     167 non-null    float64\n",
      " 5   income      167 non-null    int64  \n",
      " 6   inflation   167 non-null    float64\n",
      " 7   life_expec  167 non-null    float64\n",
      " 8   total_fer   167 non-null    float64\n",
      " 9   gdpp        167 non-null    int64  \n",
      "dtypes: float64(7), int64(2), object(1)\n",
      "memory usage: 13.2+ KB\n"
     ]
    }
   ],
   "source": [
    "dataset_awal.info()"
   ]
  },
  {
   "cell_type": "code",
   "execution_count": 5,
   "id": "4a519a89",
   "metadata": {},
   "outputs": [
    {
     "data": {
      "application/vnd.microsoft.datawrangler.viewer.v0+json": {
       "columns": [
        {
         "name": "index",
         "rawType": "object",
         "type": "string"
        },
        {
         "name": "count",
         "rawType": "float64",
         "type": "float"
        },
        {
         "name": "mean",
         "rawType": "float64",
         "type": "float"
        },
        {
         "name": "std",
         "rawType": "float64",
         "type": "float"
        },
        {
         "name": "min",
         "rawType": "float64",
         "type": "float"
        },
        {
         "name": "25%",
         "rawType": "float64",
         "type": "float"
        },
        {
         "name": "50%",
         "rawType": "float64",
         "type": "float"
        },
        {
         "name": "75%",
         "rawType": "float64",
         "type": "float"
        },
        {
         "name": "max",
         "rawType": "float64",
         "type": "float"
        }
       ],
       "ref": "ba7f6e5d-a0f9-470b-bc0d-69d8fa2186a6",
       "rows": [
        [
         "child_mort",
         "167.0",
         "38.27005988023952",
         "40.32893145927617",
         "2.6",
         "8.25",
         "19.3",
         "62.1",
         "208.0"
        ],
        [
         "exports",
         "167.0",
         "41.108976047904186",
         "27.41201011142416",
         "0.109",
         "23.8",
         "35.0",
         "51.349999999999994",
         "200.0"
        ],
        [
         "health",
         "167.0",
         "6.8156886227544895",
         "2.7468374978890795",
         "1.81",
         "4.92",
         "6.32",
         "8.600000000000001",
         "17.9"
        ],
        [
         "imports",
         "167.0",
         "46.89021497005987",
         "24.209588976108698",
         "0.0659",
         "30.2",
         "43.3",
         "58.75",
         "174.0"
        ],
        [
         "income",
         "167.0",
         "17144.688622754493",
         "19278.067697657672",
         "609.0",
         "3355.0",
         "9960.0",
         "22800.0",
         "125000.0"
        ],
        [
         "inflation",
         "167.0",
         "7.781832335329342",
         "10.570703901430559",
         "-4.21",
         "1.81",
         "5.39",
         "10.75",
         "104.0"
        ],
        [
         "life_expec",
         "167.0",
         "70.55568862275449",
         "8.893171908900408",
         "32.1",
         "65.3",
         "73.1",
         "76.8",
         "82.8"
        ],
        [
         "total_fer",
         "167.0",
         "2.947964071856287",
         "1.5138475432630463",
         "1.15",
         "1.795",
         "2.41",
         "3.88",
         "7.49"
        ],
        [
         "gdpp",
         "167.0",
         "12964.155688622754",
         "18328.704808675564",
         "231.0",
         "1330.0",
         "4660.0",
         "14050.0",
         "105000.0"
        ]
       ],
       "shape": {
        "columns": 8,
        "rows": 9
       }
      },
      "text/html": [
       "<div>\n",
       "<style scoped>\n",
       "    .dataframe tbody tr th:only-of-type {\n",
       "        vertical-align: middle;\n",
       "    }\n",
       "\n",
       "    .dataframe tbody tr th {\n",
       "        vertical-align: top;\n",
       "    }\n",
       "\n",
       "    .dataframe thead th {\n",
       "        text-align: right;\n",
       "    }\n",
       "</style>\n",
       "<table border=\"1\" class=\"dataframe\">\n",
       "  <thead>\n",
       "    <tr style=\"text-align: right;\">\n",
       "      <th></th>\n",
       "      <th>count</th>\n",
       "      <th>mean</th>\n",
       "      <th>std</th>\n",
       "      <th>min</th>\n",
       "      <th>25%</th>\n",
       "      <th>50%</th>\n",
       "      <th>75%</th>\n",
       "      <th>max</th>\n",
       "    </tr>\n",
       "  </thead>\n",
       "  <tbody>\n",
       "    <tr>\n",
       "      <th>child_mort</th>\n",
       "      <td>167.0</td>\n",
       "      <td>38.270060</td>\n",
       "      <td>40.328931</td>\n",
       "      <td>2.6000</td>\n",
       "      <td>8.250</td>\n",
       "      <td>19.30</td>\n",
       "      <td>62.10</td>\n",
       "      <td>208.00</td>\n",
       "    </tr>\n",
       "    <tr>\n",
       "      <th>exports</th>\n",
       "      <td>167.0</td>\n",
       "      <td>41.108976</td>\n",
       "      <td>27.412010</td>\n",
       "      <td>0.1090</td>\n",
       "      <td>23.800</td>\n",
       "      <td>35.00</td>\n",
       "      <td>51.35</td>\n",
       "      <td>200.00</td>\n",
       "    </tr>\n",
       "    <tr>\n",
       "      <th>health</th>\n",
       "      <td>167.0</td>\n",
       "      <td>6.815689</td>\n",
       "      <td>2.746837</td>\n",
       "      <td>1.8100</td>\n",
       "      <td>4.920</td>\n",
       "      <td>6.32</td>\n",
       "      <td>8.60</td>\n",
       "      <td>17.90</td>\n",
       "    </tr>\n",
       "    <tr>\n",
       "      <th>imports</th>\n",
       "      <td>167.0</td>\n",
       "      <td>46.890215</td>\n",
       "      <td>24.209589</td>\n",
       "      <td>0.0659</td>\n",
       "      <td>30.200</td>\n",
       "      <td>43.30</td>\n",
       "      <td>58.75</td>\n",
       "      <td>174.00</td>\n",
       "    </tr>\n",
       "    <tr>\n",
       "      <th>income</th>\n",
       "      <td>167.0</td>\n",
       "      <td>17144.688623</td>\n",
       "      <td>19278.067698</td>\n",
       "      <td>609.0000</td>\n",
       "      <td>3355.000</td>\n",
       "      <td>9960.00</td>\n",
       "      <td>22800.00</td>\n",
       "      <td>125000.00</td>\n",
       "    </tr>\n",
       "    <tr>\n",
       "      <th>inflation</th>\n",
       "      <td>167.0</td>\n",
       "      <td>7.781832</td>\n",
       "      <td>10.570704</td>\n",
       "      <td>-4.2100</td>\n",
       "      <td>1.810</td>\n",
       "      <td>5.39</td>\n",
       "      <td>10.75</td>\n",
       "      <td>104.00</td>\n",
       "    </tr>\n",
       "    <tr>\n",
       "      <th>life_expec</th>\n",
       "      <td>167.0</td>\n",
       "      <td>70.555689</td>\n",
       "      <td>8.893172</td>\n",
       "      <td>32.1000</td>\n",
       "      <td>65.300</td>\n",
       "      <td>73.10</td>\n",
       "      <td>76.80</td>\n",
       "      <td>82.80</td>\n",
       "    </tr>\n",
       "    <tr>\n",
       "      <th>total_fer</th>\n",
       "      <td>167.0</td>\n",
       "      <td>2.947964</td>\n",
       "      <td>1.513848</td>\n",
       "      <td>1.1500</td>\n",
       "      <td>1.795</td>\n",
       "      <td>2.41</td>\n",
       "      <td>3.88</td>\n",
       "      <td>7.49</td>\n",
       "    </tr>\n",
       "    <tr>\n",
       "      <th>gdpp</th>\n",
       "      <td>167.0</td>\n",
       "      <td>12964.155689</td>\n",
       "      <td>18328.704809</td>\n",
       "      <td>231.0000</td>\n",
       "      <td>1330.000</td>\n",
       "      <td>4660.00</td>\n",
       "      <td>14050.00</td>\n",
       "      <td>105000.00</td>\n",
       "    </tr>\n",
       "  </tbody>\n",
       "</table>\n",
       "</div>"
      ],
      "text/plain": [
       "            count          mean           std       min       25%      50%  \\\n",
       "child_mort  167.0     38.270060     40.328931    2.6000     8.250    19.30   \n",
       "exports     167.0     41.108976     27.412010    0.1090    23.800    35.00   \n",
       "health      167.0      6.815689      2.746837    1.8100     4.920     6.32   \n",
       "imports     167.0     46.890215     24.209589    0.0659    30.200    43.30   \n",
       "income      167.0  17144.688623  19278.067698  609.0000  3355.000  9960.00   \n",
       "inflation   167.0      7.781832     10.570704   -4.2100     1.810     5.39   \n",
       "life_expec  167.0     70.555689      8.893172   32.1000    65.300    73.10   \n",
       "total_fer   167.0      2.947964      1.513848    1.1500     1.795     2.41   \n",
       "gdpp        167.0  12964.155689  18328.704809  231.0000  1330.000  4660.00   \n",
       "\n",
       "                 75%        max  \n",
       "child_mort     62.10     208.00  \n",
       "exports        51.35     200.00  \n",
       "health          8.60      17.90  \n",
       "imports        58.75     174.00  \n",
       "income      22800.00  125000.00  \n",
       "inflation      10.75     104.00  \n",
       "life_expec     76.80      82.80  \n",
       "total_fer       3.88       7.49  \n",
       "gdpp        14050.00  105000.00  "
      ]
     },
     "execution_count": 5,
     "metadata": {},
     "output_type": "execute_result"
    }
   ],
   "source": [
    "dataset_awal.describe().T"
   ]
  },
  {
   "cell_type": "code",
   "execution_count": 6,
   "id": "3fb89dcc",
   "metadata": {},
   "outputs": [
    {
     "data": {
      "application/vnd.microsoft.datawrangler.viewer.v0+json": {
       "columns": [
        {
         "name": "index",
         "rawType": "int64",
         "type": "integer"
        },
        {
         "name": "child_mort",
         "rawType": "float64",
         "type": "float"
        },
        {
         "name": "exports",
         "rawType": "float64",
         "type": "float"
        },
        {
         "name": "health",
         "rawType": "float64",
         "type": "float"
        },
        {
         "name": "imports",
         "rawType": "float64",
         "type": "float"
        },
        {
         "name": "income",
         "rawType": "int64",
         "type": "integer"
        },
        {
         "name": "inflation",
         "rawType": "float64",
         "type": "float"
        },
        {
         "name": "life_expec",
         "rawType": "float64",
         "type": "float"
        },
        {
         "name": "total_fer",
         "rawType": "float64",
         "type": "float"
        },
        {
         "name": "gdpp",
         "rawType": "int64",
         "type": "integer"
        }
       ],
       "ref": "678e203f-1fec-4153-8c99-7a9d90b7f203",
       "rows": [
        [
         "0",
         "90.2",
         "10.0",
         "7.58",
         "44.9",
         "1610",
         "9.44",
         "56.2",
         "5.82",
         "553"
        ],
        [
         "1",
         "16.6",
         "28.0",
         "6.55",
         "48.6",
         "9930",
         "4.49",
         "76.3",
         "1.65",
         "4090"
        ],
        [
         "2",
         "27.3",
         "38.4",
         "4.17",
         "31.4",
         "12900",
         "16.1",
         "76.5",
         "2.89",
         "4460"
        ],
        [
         "3",
         "119.0",
         "62.3",
         "2.85",
         "42.9",
         "5900",
         "22.4",
         "60.1",
         "6.16",
         "3530"
        ],
        [
         "4",
         "10.3",
         "45.5",
         "6.03",
         "58.9",
         "19100",
         "1.44",
         "76.8",
         "2.13",
         "12200"
        ]
       ],
       "shape": {
        "columns": 9,
        "rows": 5
       }
      },
      "text/html": [
       "<div>\n",
       "<style scoped>\n",
       "    .dataframe tbody tr th:only-of-type {\n",
       "        vertical-align: middle;\n",
       "    }\n",
       "\n",
       "    .dataframe tbody tr th {\n",
       "        vertical-align: top;\n",
       "    }\n",
       "\n",
       "    .dataframe thead th {\n",
       "        text-align: right;\n",
       "    }\n",
       "</style>\n",
       "<table border=\"1\" class=\"dataframe\">\n",
       "  <thead>\n",
       "    <tr style=\"text-align: right;\">\n",
       "      <th></th>\n",
       "      <th>child_mort</th>\n",
       "      <th>exports</th>\n",
       "      <th>health</th>\n",
       "      <th>imports</th>\n",
       "      <th>income</th>\n",
       "      <th>inflation</th>\n",
       "      <th>life_expec</th>\n",
       "      <th>total_fer</th>\n",
       "      <th>gdpp</th>\n",
       "    </tr>\n",
       "  </thead>\n",
       "  <tbody>\n",
       "    <tr>\n",
       "      <th>0</th>\n",
       "      <td>90.2</td>\n",
       "      <td>10.0</td>\n",
       "      <td>7.58</td>\n",
       "      <td>44.9</td>\n",
       "      <td>1610</td>\n",
       "      <td>9.44</td>\n",
       "      <td>56.2</td>\n",
       "      <td>5.82</td>\n",
       "      <td>553</td>\n",
       "    </tr>\n",
       "    <tr>\n",
       "      <th>1</th>\n",
       "      <td>16.6</td>\n",
       "      <td>28.0</td>\n",
       "      <td>6.55</td>\n",
       "      <td>48.6</td>\n",
       "      <td>9930</td>\n",
       "      <td>4.49</td>\n",
       "      <td>76.3</td>\n",
       "      <td>1.65</td>\n",
       "      <td>4090</td>\n",
       "    </tr>\n",
       "    <tr>\n",
       "      <th>2</th>\n",
       "      <td>27.3</td>\n",
       "      <td>38.4</td>\n",
       "      <td>4.17</td>\n",
       "      <td>31.4</td>\n",
       "      <td>12900</td>\n",
       "      <td>16.10</td>\n",
       "      <td>76.5</td>\n",
       "      <td>2.89</td>\n",
       "      <td>4460</td>\n",
       "    </tr>\n",
       "    <tr>\n",
       "      <th>3</th>\n",
       "      <td>119.0</td>\n",
       "      <td>62.3</td>\n",
       "      <td>2.85</td>\n",
       "      <td>42.9</td>\n",
       "      <td>5900</td>\n",
       "      <td>22.40</td>\n",
       "      <td>60.1</td>\n",
       "      <td>6.16</td>\n",
       "      <td>3530</td>\n",
       "    </tr>\n",
       "    <tr>\n",
       "      <th>4</th>\n",
       "      <td>10.3</td>\n",
       "      <td>45.5</td>\n",
       "      <td>6.03</td>\n",
       "      <td>58.9</td>\n",
       "      <td>19100</td>\n",
       "      <td>1.44</td>\n",
       "      <td>76.8</td>\n",
       "      <td>2.13</td>\n",
       "      <td>12200</td>\n",
       "    </tr>\n",
       "  </tbody>\n",
       "</table>\n",
       "</div>"
      ],
      "text/plain": [
       "   child_mort  exports  health  imports  income  inflation  life_expec  \\\n",
       "0        90.2     10.0    7.58     44.9    1610       9.44        56.2   \n",
       "1        16.6     28.0    6.55     48.6    9930       4.49        76.3   \n",
       "2        27.3     38.4    4.17     31.4   12900      16.10        76.5   \n",
       "3       119.0     62.3    2.85     42.9    5900      22.40        60.1   \n",
       "4        10.3     45.5    6.03     58.9   19100       1.44        76.8   \n",
       "\n",
       "   total_fer   gdpp  \n",
       "0       5.82    553  \n",
       "1       1.65   4090  \n",
       "2       2.89   4460  \n",
       "3       6.16   3530  \n",
       "4       2.13  12200  "
      ]
     },
     "execution_count": 6,
     "metadata": {},
     "output_type": "execute_result"
    }
   ],
   "source": [
    "dataset = dataset_awal.drop('country', axis=1)\n",
    "dataset.head()"
   ]
  },
  {
   "cell_type": "code",
   "execution_count": 7,
   "id": "d8345fd2",
   "metadata": {},
   "outputs": [],
   "source": [
    "scaler = StandardScaler()\n",
    "#scaler = MinMaxScaler()\n",
    "\n",
    "dataset_std = scaler.fit_transform(dataset)"
   ]
  },
  {
   "cell_type": "code",
   "execution_count": 8,
   "id": "1918e4fb",
   "metadata": {},
   "outputs": [
    {
     "data": {
      "application/vnd.microsoft.datawrangler.viewer.v0+json": {
       "columns": [
        {
         "name": "index",
         "rawType": "object",
         "type": "string"
        },
        {
         "name": "count",
         "rawType": "float64",
         "type": "float"
        },
        {
         "name": "mean",
         "rawType": "float64",
         "type": "float"
        },
        {
         "name": "std",
         "rawType": "float64",
         "type": "float"
        },
        {
         "name": "min",
         "rawType": "float64",
         "type": "float"
        },
        {
         "name": "25%",
         "rawType": "float64",
         "type": "float"
        },
        {
         "name": "50%",
         "rawType": "float64",
         "type": "float"
        },
        {
         "name": "75%",
         "rawType": "float64",
         "type": "float"
        },
        {
         "name": "max",
         "rawType": "float64",
         "type": "float"
        }
       ],
       "ref": "95cc8cbe-fd63-4a90-8ebe-f099d1d71146",
       "rows": [
        [
         "child_mort",
         "167.0",
         "-3.722903555629267e-17",
         "1.003007525587691",
         "-0.8871382703053136",
         "-0.7466189876336926",
         "-0.4717980896653013",
         "0.5926665649091014",
         "4.221297244871843"
        ],
        [
         "exports",
         "167.0",
         "2.1273734603595814e-16",
         "1.003007525587691",
         "-1.5001922280710283",
         "-0.6333367442116054",
         "-0.22352789615852467",
         "0.37471984184753515",
         "5.813834597480612"
        ],
        [
         "health",
         "167.0",
         "5.504578828680416e-16",
         "1.0030075255876907",
         "-1.8278268602455852",
         "-0.6922105717047038",
         "-0.1810006668953036",
         "0.6515411780800051",
         "4.047435545742448"
        ],
        [
         "imports",
         "167.0",
         "2.765585498467456e-16",
         "1.003007525587691",
         "-1.9399395975621934",
         "-0.6914785391510244",
         "-0.148743237111597",
         "0.491352977889102",
         "5.266180730564218"
        ],
        [
         "income",
         "167.0",
         "-7.97765047634843e-17",
         "1.003007525587691",
         "-0.8603258578354654",
         "-0.717455799048482",
         "-0.37380804293485276",
         "0.2942369515388791",
         "5.611542125621075"
        ],
        [
         "inflation",
         "167.0",
         "-1.0636867301797908e-17",
         "1.0030075255876907",
         "-1.1378521421164183",
         "-0.566640862305549",
         "-0.22695043344792254",
         "0.28163635389198766",
         "9.129718055281284"
        ],
        [
         "life_expec",
         "167.0",
         "3.6963113873747727e-16",
         "1.003007525587691",
         "-4.337186493794972",
         "-0.5927576004116795",
         "0.28695762152776844",
         "0.704258431934943",
         "1.3809624488114416"
        ],
        [
         "total_fer",
         "167.0",
         "3.044803265139651e-16",
         "1.003007525587691",
         "-1.1912504022175432",
         "-0.7639023136447638",
         "-0.35643088035443937",
         "0.6175252284858481",
         "3.009349414141248"
        ],
        [
         "gdpp",
         "167.0",
         "5.850277015988849e-17",
         "1.003007525587691",
         "-0.696800516647701",
         "-0.6366595911361987",
         "-0.454430945136833",
         "0.05942100259110786",
         "5.036506694375584"
        ]
       ],
       "shape": {
        "columns": 8,
        "rows": 9
       }
      },
      "text/html": [
       "<div>\n",
       "<style scoped>\n",
       "    .dataframe tbody tr th:only-of-type {\n",
       "        vertical-align: middle;\n",
       "    }\n",
       "\n",
       "    .dataframe tbody tr th {\n",
       "        vertical-align: top;\n",
       "    }\n",
       "\n",
       "    .dataframe thead th {\n",
       "        text-align: right;\n",
       "    }\n",
       "</style>\n",
       "<table border=\"1\" class=\"dataframe\">\n",
       "  <thead>\n",
       "    <tr style=\"text-align: right;\">\n",
       "      <th></th>\n",
       "      <th>count</th>\n",
       "      <th>mean</th>\n",
       "      <th>std</th>\n",
       "      <th>min</th>\n",
       "      <th>25%</th>\n",
       "      <th>50%</th>\n",
       "      <th>75%</th>\n",
       "      <th>max</th>\n",
       "    </tr>\n",
       "  </thead>\n",
       "  <tbody>\n",
       "    <tr>\n",
       "      <th>child_mort</th>\n",
       "      <td>167.0</td>\n",
       "      <td>-3.722904e-17</td>\n",
       "      <td>1.003008</td>\n",
       "      <td>-0.887138</td>\n",
       "      <td>-0.746619</td>\n",
       "      <td>-0.471798</td>\n",
       "      <td>0.592667</td>\n",
       "      <td>4.221297</td>\n",
       "    </tr>\n",
       "    <tr>\n",
       "      <th>exports</th>\n",
       "      <td>167.0</td>\n",
       "      <td>2.127373e-16</td>\n",
       "      <td>1.003008</td>\n",
       "      <td>-1.500192</td>\n",
       "      <td>-0.633337</td>\n",
       "      <td>-0.223528</td>\n",
       "      <td>0.374720</td>\n",
       "      <td>5.813835</td>\n",
       "    </tr>\n",
       "    <tr>\n",
       "      <th>health</th>\n",
       "      <td>167.0</td>\n",
       "      <td>5.504579e-16</td>\n",
       "      <td>1.003008</td>\n",
       "      <td>-1.827827</td>\n",
       "      <td>-0.692211</td>\n",
       "      <td>-0.181001</td>\n",
       "      <td>0.651541</td>\n",
       "      <td>4.047436</td>\n",
       "    </tr>\n",
       "    <tr>\n",
       "      <th>imports</th>\n",
       "      <td>167.0</td>\n",
       "      <td>2.765585e-16</td>\n",
       "      <td>1.003008</td>\n",
       "      <td>-1.939940</td>\n",
       "      <td>-0.691479</td>\n",
       "      <td>-0.148743</td>\n",
       "      <td>0.491353</td>\n",
       "      <td>5.266181</td>\n",
       "    </tr>\n",
       "    <tr>\n",
       "      <th>income</th>\n",
       "      <td>167.0</td>\n",
       "      <td>-7.977650e-17</td>\n",
       "      <td>1.003008</td>\n",
       "      <td>-0.860326</td>\n",
       "      <td>-0.717456</td>\n",
       "      <td>-0.373808</td>\n",
       "      <td>0.294237</td>\n",
       "      <td>5.611542</td>\n",
       "    </tr>\n",
       "    <tr>\n",
       "      <th>inflation</th>\n",
       "      <td>167.0</td>\n",
       "      <td>-1.063687e-17</td>\n",
       "      <td>1.003008</td>\n",
       "      <td>-1.137852</td>\n",
       "      <td>-0.566641</td>\n",
       "      <td>-0.226950</td>\n",
       "      <td>0.281636</td>\n",
       "      <td>9.129718</td>\n",
       "    </tr>\n",
       "    <tr>\n",
       "      <th>life_expec</th>\n",
       "      <td>167.0</td>\n",
       "      <td>3.696311e-16</td>\n",
       "      <td>1.003008</td>\n",
       "      <td>-4.337186</td>\n",
       "      <td>-0.592758</td>\n",
       "      <td>0.286958</td>\n",
       "      <td>0.704258</td>\n",
       "      <td>1.380962</td>\n",
       "    </tr>\n",
       "    <tr>\n",
       "      <th>total_fer</th>\n",
       "      <td>167.0</td>\n",
       "      <td>3.044803e-16</td>\n",
       "      <td>1.003008</td>\n",
       "      <td>-1.191250</td>\n",
       "      <td>-0.763902</td>\n",
       "      <td>-0.356431</td>\n",
       "      <td>0.617525</td>\n",
       "      <td>3.009349</td>\n",
       "    </tr>\n",
       "    <tr>\n",
       "      <th>gdpp</th>\n",
       "      <td>167.0</td>\n",
       "      <td>5.850277e-17</td>\n",
       "      <td>1.003008</td>\n",
       "      <td>-0.696801</td>\n",
       "      <td>-0.636660</td>\n",
       "      <td>-0.454431</td>\n",
       "      <td>0.059421</td>\n",
       "      <td>5.036507</td>\n",
       "    </tr>\n",
       "  </tbody>\n",
       "</table>\n",
       "</div>"
      ],
      "text/plain": [
       "            count          mean       std       min       25%       50%  \\\n",
       "child_mort  167.0 -3.722904e-17  1.003008 -0.887138 -0.746619 -0.471798   \n",
       "exports     167.0  2.127373e-16  1.003008 -1.500192 -0.633337 -0.223528   \n",
       "health      167.0  5.504579e-16  1.003008 -1.827827 -0.692211 -0.181001   \n",
       "imports     167.0  2.765585e-16  1.003008 -1.939940 -0.691479 -0.148743   \n",
       "income      167.0 -7.977650e-17  1.003008 -0.860326 -0.717456 -0.373808   \n",
       "inflation   167.0 -1.063687e-17  1.003008 -1.137852 -0.566641 -0.226950   \n",
       "life_expec  167.0  3.696311e-16  1.003008 -4.337186 -0.592758  0.286958   \n",
       "total_fer   167.0  3.044803e-16  1.003008 -1.191250 -0.763902 -0.356431   \n",
       "gdpp        167.0  5.850277e-17  1.003008 -0.696801 -0.636660 -0.454431   \n",
       "\n",
       "                 75%       max  \n",
       "child_mort  0.592667  4.221297  \n",
       "exports     0.374720  5.813835  \n",
       "health      0.651541  4.047436  \n",
       "imports     0.491353  5.266181  \n",
       "income      0.294237  5.611542  \n",
       "inflation   0.281636  9.129718  \n",
       "life_expec  0.704258  1.380962  \n",
       "total_fer   0.617525  3.009349  \n",
       "gdpp        0.059421  5.036507  "
      ]
     },
     "execution_count": 8,
     "metadata": {},
     "output_type": "execute_result"
    }
   ],
   "source": [
    "pd.DataFrame(data=dataset_std, columns=dataset.columns).describe().T"
   ]
  },
  {
   "cell_type": "code",
   "execution_count": 9,
   "id": "e4516c09",
   "metadata": {},
   "outputs": [],
   "source": [
    "model = KMeans(2, random_state=42)"
   ]
  },
  {
   "cell_type": "code",
   "execution_count": 10,
   "id": "8f1040f2",
   "metadata": {},
   "outputs": [],
   "source": [
    "clusters = model.fit_predict(dataset_std)"
   ]
  },
  {
   "cell_type": "code",
   "execution_count": 11,
   "id": "89936aab",
   "metadata": {},
   "outputs": [
    {
     "name": "stdout",
     "output_type": "stream",
     "text": [
      "[0 1 0 0 1 0 0 1 1 0 1 1 0 1 1 1 0 0 0 0 1 0 1 1 1 0 0 0 0 1 0 0 0 1 0 1 0\n",
      " 0 0 1 0 1 1 1 1 0 0 0 0 0 0 1 0 1 1 0 0 1 1 0 1 0 0 0 0 0 0 1 1 0 0 0 0 1\n",
      " 1 1 0 1 0 0 0 0 1 0 0 1 1 0 0 1 1 1 1 0 0 1 1 0 1 0 1 0 1 0 1 0 0 0 0 0 1\n",
      " 1 0 0 1 1 0 1 0 0 0 1 1 1 1 0 0 0 1 0 1 1 0 1 1 1 0 0 1 1 0 0 0 0 1 1 0 0\n",
      " 1 0 0 0 1 1 0 0 1 1 1 1 1 0 0 0 1 0 0]\n"
     ]
    }
   ],
   "source": [
    "print(clusters)"
   ]
  },
  {
   "cell_type": "code",
   "execution_count": 12,
   "id": "01487b52",
   "metadata": {},
   "outputs": [],
   "source": [
    "dataset_awal['cluster'] = clusters"
   ]
  },
  {
   "cell_type": "code",
   "execution_count": 13,
   "id": "dd15c53f",
   "metadata": {},
   "outputs": [
    {
     "data": {
      "application/vnd.microsoft.datawrangler.viewer.v0+json": {
       "columns": [
        {
         "name": "index",
         "rawType": "int64",
         "type": "integer"
        },
        {
         "name": "country",
         "rawType": "object",
         "type": "string"
        },
        {
         "name": "cluster",
         "rawType": "int32",
         "type": "integer"
        }
       ],
       "ref": "f9f1a11d-02b0-445a-99c1-074be2387a0e",
       "rows": [
        [
         "0",
         "Afghanistan",
         "0"
        ],
        [
         "1",
         "Albania",
         "1"
        ],
        [
         "2",
         "Algeria",
         "0"
        ],
        [
         "3",
         "Angola",
         "0"
        ],
        [
         "4",
         "Antigua and Barbuda",
         "1"
        ]
       ],
       "shape": {
        "columns": 2,
        "rows": 5
       }
      },
      "text/html": [
       "<div>\n",
       "<style scoped>\n",
       "    .dataframe tbody tr th:only-of-type {\n",
       "        vertical-align: middle;\n",
       "    }\n",
       "\n",
       "    .dataframe tbody tr th {\n",
       "        vertical-align: top;\n",
       "    }\n",
       "\n",
       "    .dataframe thead th {\n",
       "        text-align: right;\n",
       "    }\n",
       "</style>\n",
       "<table border=\"1\" class=\"dataframe\">\n",
       "  <thead>\n",
       "    <tr style=\"text-align: right;\">\n",
       "      <th></th>\n",
       "      <th>country</th>\n",
       "      <th>cluster</th>\n",
       "    </tr>\n",
       "  </thead>\n",
       "  <tbody>\n",
       "    <tr>\n",
       "      <th>0</th>\n",
       "      <td>Afghanistan</td>\n",
       "      <td>0</td>\n",
       "    </tr>\n",
       "    <tr>\n",
       "      <th>1</th>\n",
       "      <td>Albania</td>\n",
       "      <td>1</td>\n",
       "    </tr>\n",
       "    <tr>\n",
       "      <th>2</th>\n",
       "      <td>Algeria</td>\n",
       "      <td>0</td>\n",
       "    </tr>\n",
       "    <tr>\n",
       "      <th>3</th>\n",
       "      <td>Angola</td>\n",
       "      <td>0</td>\n",
       "    </tr>\n",
       "    <tr>\n",
       "      <th>4</th>\n",
       "      <td>Antigua and Barbuda</td>\n",
       "      <td>1</td>\n",
       "    </tr>\n",
       "  </tbody>\n",
       "</table>\n",
       "</div>"
      ],
      "text/plain": [
       "               country  cluster\n",
       "0          Afghanistan        0\n",
       "1              Albania        1\n",
       "2              Algeria        0\n",
       "3               Angola        0\n",
       "4  Antigua and Barbuda        1"
      ]
     },
     "execution_count": 13,
     "metadata": {},
     "output_type": "execute_result"
    }
   ],
   "source": [
    "dataset_awal[['country', 'cluster']].head(5)"
   ]
  },
  {
   "cell_type": "code",
   "execution_count": 14,
   "id": "0d5023a4",
   "metadata": {},
   "outputs": [
    {
     "data": {
      "text/plain": [
       "<matplotlib.legend.Legend at 0x172ff94cc10>"
      ]
     },
     "execution_count": 14,
     "metadata": {},
     "output_type": "execute_result"
    },
    {
     "data": {
      "image/png": "[encoded data removed]",
      "text/plain": [
       "<Figure size 1000x400 with 1 Axes>"
      ]
     },
     "metadata": {},
     "output_type": "display_data"
    }
   ],
   "source": [
    "plt.rcParams[\"font.size\"] = 7\n",
    "\n",
    "plt.figure(figsize=(5,2), dpi=200)\n",
    "\n",
    "#sns.set_theme(style=\"white\", font_scale=0.5)\n",
    "\n",
    "p=sns.scatterplot(data=dataset_awal, x='child_mort', y='life_expec', hue='cluster', size='income', sizes=(10,200), style='cluster', alpha=0.7, markers=['s', 'o'])\n",
    "\n",
    "p.set_xlabel('Child Mortality')\n",
    "p.set_ylabel('Life Expectancy')\n",
    "\n",
    "h,l = p.get_legend_handles_labels()\n",
    "plt.legend(h[1:3],l[1:3], loc=2, bbox_to_anchor=(0.8, 0.95), title='cluster')\n"
   ]
  }
 ],
 "metadata": {
  "kernelspec": {
   "display_name": "Python 3",
   "language": "python",
   "name": "python3"
  },
  "language_info": {
   "codemirror_mode": {
    "name": "ipython",
    "version": 3
   },
   "file_extension": ".py",
   "mimetype": "text/x-python",
   "name": "python",
   "nbconvert_exporter": "python",
   "pygments_lexer": "ipython3",
   "version": "3.10.11"
  }
 },
 "nbformat": 4,
 "nbformat_minor": 5
}
